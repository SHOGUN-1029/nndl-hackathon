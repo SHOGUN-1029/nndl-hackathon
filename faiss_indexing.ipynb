{
  "cells": [
    {
      "cell_type": "code",
      "execution_count": null,
      "metadata": {
        "id": "XHp_1RRnrUV3"
      },
      "outputs": [],
      "source": [
        "!pip install faiss-cpu  "
      ]
    },
    {
      "cell_type": "code",
      "execution_count": null,
      "metadata": {
        "id": "2bAJ1QixrVHJ"
      },
      "outputs": [],
      "source": [
        "import pandas as pd\n",
        "import faiss\n",
        "import numpy as np\n",
        "from sentence_transformers import SentenceTransformer\n",
        "\n",
        "# Load SBERT model\n",
        "model = SentenceTransformer(\"sentence-transformers/paraphrase-mpnet-base-v2\")\n",
        "\n",
        "# Load dataset\n",
        "df = pd.read_csv(\"ipc_sections.csv\")  # Ensure correct file path\n",
        "\n",
        "# Extract relevant columns\n",
        "descriptions = df['Description'].tolist()\n",
        "sections = df['Section'].tolist()\n",
        "offenses = df['Offense'].tolist()\n",
        "punishments = df['Punishment'].tolist()\n",
        "\n",
        "# Convert descriptions into embeddings\n",
        "embeddings = model.encode(descriptions, convert_to_numpy=True)\n",
        "\n",
        "# Initialize FAISS index\n",
        "dimension = embeddings.shape[1]\n",
        "index = faiss.IndexFlatL2(dimension)\n",
        "index.add(embeddings)  # Store embeddings in FAISS\n",
        "\n",
        "# Function to find the most relevant IPC section\n",
        "def find_ipc_section(case_description, k=3):\n",
        "    query_embedding = model.encode([case_description], convert_to_numpy=True)\n",
        "    D, I = index.search(query_embedding, k)  # Get top-k matches\n",
        "\n",
        "    results = []\n",
        "    for i in range(k):\n",
        "        sec_num = sections[I[0][i]]\n",
        "        sec_desc = descriptions[I[0][i]]\n",
        "        offense = offenses[I[0][i]]\n",
        "        punishment = punishments[I[0][i]]\n",
        "        results.append((sec_num, offense, punishment, sec_desc, D[0][i]))\n",
        "\n",
        "    return results\n",
        "\n",
        "query_text = \"murder\"\n",
        "matches = find_ipc_section(query_text, k=5)\n",
        "\n",
        "\n",
        "for sec, offense, punishment, desc, dist in matches:\n",
        "    print(f\"IPC Section: {sec}\\nOffense: {offense}\\nPunishment: {punishment}\\nDescription: {desc}\\nDistance: {dist}\\n---\")\n",
        "\n",
        "\n",
        "import pickle\n",
        "\n",
        "data = {\n",
        "    \"sections\": sections,\n",
        "    \"offenses\": offenses,\n",
        "    \"punishments\": punishments,\n",
        "    \"descriptions\": descriptions,\n",
        "}\n",
        "\n",
        "with open(\"ipc_data.pkl\", \"wb\") as f:\n",
        "    pickle.dump(data, f)\n",
        "\n",
        "    \n",
        "import faiss\n",
        "import pickle\n",
        "from sentence_transformers import SentenceTransformer\n",
        "from google.colab import files\n",
        "import shutil\n",
        "\n",
        "shutil.make_archive(\"sbert_model\", 'zip', \"sbert_model\")\n",
        "\n",
        "files.download(\"sbert_model.zip\")  \n",
        "files.download(\"faiss_index.faiss\")  \n",
        "files.download(\"ipc_data.pkl\") "
      ]
    }
  ],
  "metadata": {
    "colab": {
      "provenance": []
    },
    "kernelspec": {
      "display_name": "Python 3",
      "name": "python3"
    },
    "language_info": {
      "name": "python"
    }
  },
  "nbformat": 4,
  "nbformat_minor": 0
}
