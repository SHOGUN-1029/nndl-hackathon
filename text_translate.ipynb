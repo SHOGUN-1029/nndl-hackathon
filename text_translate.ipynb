{
  "nbformat": 4,
  "nbformat_minor": 0,
  "metadata": {
    "colab": {
      "provenance": []
    },
    "kernelspec": {
      "name": "python3",
      "display_name": "Python 3"
    },
    "language_info": {
      "name": "python"
    }
  },
  "cells": [
    {
      "cell_type": "code",
      "execution_count": null,
      "metadata": {
        "id": "Nb_ZbFrrr2nl"
      },
      "outputs": [],
      "source": [
        "import re\n",
        "from deep_translator import GoogleTranslator\n",
        "\n",
        "SUPPORTED_LANGUAGES = {\n",
        "    'te': 'Telugu',\n",
        "    'ta': 'Tamil',\n",
        "    'kn': 'Kannada',\n",
        "    'ml': 'Malayalam',\n",
        "    'hi': 'Hindi'\n",
        "}\n",
        "\n",
        "def clean_text(text):\n",
        "    cleaned = re.sub(r'[^A-Za-z\\s.,]', '', text)  # Keep only letters, spaces, periods, commas\n",
        "    cleaned = re.sub(r'\\s+', ' ', cleaned).strip()  # Remove extra spaces\n",
        "    return cleaned\n",
        "\n",
        "def translate_text(text, target_lang):\n",
        "    try:\n",
        "        if target_lang not in SUPPORTED_LANGUAGES:\n",
        "            raise ValueError(f\"Unsupported language: {target_lang}\")\n",
        "\n",
        "        cleaned = clean_text(text)\n",
        "        translator = GoogleTranslator(source='en', target=target_lang)\n",
        "        return translator.translate(cleaned)\n",
        "    except Exception as e:\n",
        "        return f\"Translation failed: {e}\"\n",
        "\n",
        "if __name__ == \"__main__\":\n",
        "    english_text = \"\"\"\n",
        "    FIRST INFORMATION REPORT\n",
        "\n",
        "    FIR No: 123/2025\n",
        "    Police Station: Central\n",
        "    District: Bengaluru\n",
        "    State: Karnataka\n",
        "    Date: 05-04-2025\n",
        "\n",
        "    COMPLAINANT DETAILS:\n",
        "    Name: Raju\n",
        "    Address: Some street, Bangalore\n",
        "    Contact: 1234567890\n",
        "\n",
        "    ACCUSED PERSON DETAILS:\n",
        "    Name: Dhruv\n",
        "    Address: Unknown\n",
        "    Other Identifiable Information: None\n",
        "\n",
        "    1. Criminal offence 2. Attempt to murder 3. Punishment for attempting to murder 4. Misdemeanor Crime\n",
        "\n",
        "    APPLICABLE IPC SECTIONS:\n",
        "    Section IPC_302, Section IPC_307\n",
        "\n",
        "    Signed,\n",
        "    Investigating Officer\n",
        "    Sub Inspector #45\n",
        "    \"\"\"\n",
        "\n",
        "    lang_code = input(\"Enter target language code (te/ta/kn/ml/hi): \").strip().lower()\n",
        "    translated = translate_text(english_text, lang_code)\n",
        "\n",
        "    print(\"\\n🈯 Translated Text:\\n\")\n",
        "    print(translated)\n"
      ]
    }
  ]
}